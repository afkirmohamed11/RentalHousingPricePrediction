{
 "cells": [
  {
   "cell_type": "markdown",
   "id": "0f393cac-0f69-4ae9-a876-a923f4014b3f",
   "metadata": {},
   "source": [
    "At this level we'll use regression models to analyze the factors (single attributes) and compare their impact on housing rent."
   ]
  },
  {
   "cell_type": "code",
   "execution_count": 1,
   "id": "1ca5e9fa-b7d6-463f-a2dc-d5e003f1d128",
   "metadata": {},
   "outputs": [],
   "source": [
    "import pandas as pd\n",
    "import numpy as np\n",
    "import seaborn as sns\n",
    "from sklearn.model_selection import train_test_split\n",
    "from sklearn.linear_model import LinearRegression\n",
    "from sklearn.linear_model import Ridge\n",
    "from sklearn.metrics import mean_squared_error, r2_score\n",
    "import matplotlib.pyplot as plt"
   ]
  },
  {
   "cell_type": "code",
   "execution_count": 2,
   "id": "4781dd67-a242-4e19-87b4-8d10784612b4",
   "metadata": {},
   "outputs": [
    {
     "name": "stdout",
     "output_type": "stream",
     "text": [
      "(8801, 36)\n"
     ]
    },
    {
     "data": {
      "text/html": [
       "<div>\n",
       "<style scoped>\n",
       "    .dataframe tbody tr th:only-of-type {\n",
       "        vertical-align: middle;\n",
       "    }\n",
       "\n",
       "    .dataframe tbody tr th {\n",
       "        vertical-align: top;\n",
       "    }\n",
       "\n",
       "    .dataframe thead th {\n",
       "        text-align: right;\n",
       "    }\n",
       "</style>\n",
       "<table border=\"1\" class=\"dataframe\">\n",
       "  <thead>\n",
       "    <tr style=\"text-align: right;\">\n",
       "      <th></th>\n",
       "      <th>Prix</th>\n",
       "      <th>Type De Bien</th>\n",
       "      <th>Surface</th>\n",
       "      <th>Nombre De Pièces</th>\n",
       "      <th>Nombre De Chambres</th>\n",
       "      <th>Nombre De Salles De Bain</th>\n",
       "      <th>Etat De Location</th>\n",
       "      <th>Étage</th>\n",
       "      <th>Jardin</th>\n",
       "      <th>Terrasse</th>\n",
       "      <th>...</th>\n",
       "      <th>Ville_agadir</th>\n",
       "      <th>Ville_bouskoura</th>\n",
       "      <th>Ville_casablanca</th>\n",
       "      <th>Ville_dar-bouazza</th>\n",
       "      <th>Ville_kénitra</th>\n",
       "      <th>Ville_marrakech</th>\n",
       "      <th>Ville_mohammedia</th>\n",
       "      <th>Ville_rabat</th>\n",
       "      <th>Ville_salé</th>\n",
       "      <th>Ville_tanger</th>\n",
       "    </tr>\n",
       "  </thead>\n",
       "  <tbody>\n",
       "    <tr>\n",
       "      <th>0</th>\n",
       "      <td>4800.0</td>\n",
       "      <td>1</td>\n",
       "      <td>75.0</td>\n",
       "      <td>1.0</td>\n",
       "      <td>2.0</td>\n",
       "      <td>2.0</td>\n",
       "      <td>2.0</td>\n",
       "      <td>2</td>\n",
       "      <td>0</td>\n",
       "      <td>0</td>\n",
       "      <td>...</td>\n",
       "      <td>1</td>\n",
       "      <td>0</td>\n",
       "      <td>0</td>\n",
       "      <td>0</td>\n",
       "      <td>0</td>\n",
       "      <td>0</td>\n",
       "      <td>0</td>\n",
       "      <td>0</td>\n",
       "      <td>0</td>\n",
       "      <td>0</td>\n",
       "    </tr>\n",
       "    <tr>\n",
       "      <th>1</th>\n",
       "      <td>600.0</td>\n",
       "      <td>1</td>\n",
       "      <td>111.0</td>\n",
       "      <td>2.0</td>\n",
       "      <td>2.0</td>\n",
       "      <td>2.0</td>\n",
       "      <td>2.0</td>\n",
       "      <td>1</td>\n",
       "      <td>1</td>\n",
       "      <td>1</td>\n",
       "      <td>...</td>\n",
       "      <td>1</td>\n",
       "      <td>0</td>\n",
       "      <td>0</td>\n",
       "      <td>0</td>\n",
       "      <td>0</td>\n",
       "      <td>0</td>\n",
       "      <td>0</td>\n",
       "      <td>0</td>\n",
       "      <td>0</td>\n",
       "      <td>0</td>\n",
       "    </tr>\n",
       "    <tr>\n",
       "      <th>2</th>\n",
       "      <td>4000.0</td>\n",
       "      <td>1</td>\n",
       "      <td>75.0</td>\n",
       "      <td>1.0</td>\n",
       "      <td>2.0</td>\n",
       "      <td>2.0</td>\n",
       "      <td>2.0</td>\n",
       "      <td>1</td>\n",
       "      <td>0</td>\n",
       "      <td>0</td>\n",
       "      <td>...</td>\n",
       "      <td>1</td>\n",
       "      <td>0</td>\n",
       "      <td>0</td>\n",
       "      <td>0</td>\n",
       "      <td>0</td>\n",
       "      <td>0</td>\n",
       "      <td>0</td>\n",
       "      <td>0</td>\n",
       "      <td>0</td>\n",
       "      <td>0</td>\n",
       "    </tr>\n",
       "    <tr>\n",
       "      <th>3</th>\n",
       "      <td>4000.0</td>\n",
       "      <td>1</td>\n",
       "      <td>65.0</td>\n",
       "      <td>1.0</td>\n",
       "      <td>1.0</td>\n",
       "      <td>1.0</td>\n",
       "      <td>2.0</td>\n",
       "      <td>6</td>\n",
       "      <td>0</td>\n",
       "      <td>0</td>\n",
       "      <td>...</td>\n",
       "      <td>1</td>\n",
       "      <td>0</td>\n",
       "      <td>0</td>\n",
       "      <td>0</td>\n",
       "      <td>0</td>\n",
       "      <td>0</td>\n",
       "      <td>0</td>\n",
       "      <td>0</td>\n",
       "      <td>0</td>\n",
       "      <td>0</td>\n",
       "    </tr>\n",
       "    <tr>\n",
       "      <th>4</th>\n",
       "      <td>4700.0</td>\n",
       "      <td>1</td>\n",
       "      <td>85.0</td>\n",
       "      <td>3.0</td>\n",
       "      <td>2.0</td>\n",
       "      <td>1.0</td>\n",
       "      <td>2.0</td>\n",
       "      <td>6</td>\n",
       "      <td>0</td>\n",
       "      <td>0</td>\n",
       "      <td>...</td>\n",
       "      <td>1</td>\n",
       "      <td>0</td>\n",
       "      <td>0</td>\n",
       "      <td>0</td>\n",
       "      <td>0</td>\n",
       "      <td>0</td>\n",
       "      <td>0</td>\n",
       "      <td>0</td>\n",
       "      <td>0</td>\n",
       "      <td>0</td>\n",
       "    </tr>\n",
       "  </tbody>\n",
       "</table>\n",
       "<p>5 rows × 36 columns</p>\n",
       "</div>"
      ],
      "text/plain": [
       "     Prix  Type De Bien  Surface  Nombre De Pièces  Nombre De Chambres  \\\n",
       "0  4800.0             1     75.0               1.0                 2.0   \n",
       "1   600.0             1    111.0               2.0                 2.0   \n",
       "2  4000.0             1     75.0               1.0                 2.0   \n",
       "3  4000.0             1     65.0               1.0                 1.0   \n",
       "4  4700.0             1     85.0               3.0                 2.0   \n",
       "\n",
       "   Nombre De Salles De Bain  Etat De Location  Étage  Jardin  Terrasse  ...  \\\n",
       "0                       2.0               2.0      2       0         0  ...   \n",
       "1                       2.0               2.0      1       1         1  ...   \n",
       "2                       2.0               2.0      1       0         0  ...   \n",
       "3                       1.0               2.0      6       0         0  ...   \n",
       "4                       1.0               2.0      6       0         0  ...   \n",
       "\n",
       "   Ville_agadir  Ville_bouskoura  Ville_casablanca  Ville_dar-bouazza  \\\n",
       "0             1                0                 0                  0   \n",
       "1             1                0                 0                  0   \n",
       "2             1                0                 0                  0   \n",
       "3             1                0                 0                  0   \n",
       "4             1                0                 0                  0   \n",
       "\n",
       "   Ville_kénitra  Ville_marrakech  Ville_mohammedia  Ville_rabat  Ville_salé  \\\n",
       "0              0                0                 0            0           0   \n",
       "1              0                0                 0            0           0   \n",
       "2              0                0                 0            0           0   \n",
       "3              0                0                 0            0           0   \n",
       "4              0                0                 0            0           0   \n",
       "\n",
       "   Ville_tanger  \n",
       "0             0  \n",
       "1             0  \n",
       "2             0  \n",
       "3             0  \n",
       "4             0  \n",
       "\n",
       "[5 rows x 36 columns]"
      ]
     },
     "execution_count": 2,
     "metadata": {},
     "output_type": "execute_result"
    }
   ],
   "source": [
    "df = pd.read_csv(\"../CSV's/Mubawab_Rental_Data_Transformed_&_Preprocessed_&_Explored.csv\")\n",
    "print(df.shape)\n",
    "df.head()"
   ]
  },
  {
   "cell_type": "markdown",
   "id": "2e98fefd-2cc1-4dd4-b32e-cc37901035fe",
   "metadata": {},
   "source": [
    "#### Model 1 - Room Attributes:\n"
   ]
  },
  {
   "cell_type": "markdown",
   "id": "136c4e60-2afa-494c-925c-e5e7e3245c72",
   "metadata": {},
   "source": [
    "We will create a regression model with “Nombre De Chambres”, “Nombre De Salles De Bain”, and “Nombre De Pièces” as independent variables. This would allow us to see how these room-related attributes collectively influence the rental price."
   ]
  },
  {
   "cell_type": "code",
   "execution_count": 3,
   "id": "3a1f0c30-bdfa-4c31-82a2-55022cd6eeed",
   "metadata": {},
   "outputs": [],
   "source": [
    "# Model 1 - Room Attributes\n",
    "X1 = df[['Nombre De Pièces','Nombre De Chambres', 'Nombre De Salles De Bain']]\n",
    "y = df['Prix']\n",
    "\n",
    "X1_train, X1_test, y_train, y_test = train_test_split(X1, y, test_size=0.2, random_state=5)\n",
    "\n",
    "model1 = LinearRegression()\n",
    "model1.fit(X1_train, y_train)\n",
    "\n",
    "y1_pred = model1.predict(X1_test)"
   ]
  },
  {
   "cell_type": "markdown",
   "id": "1d130641-1cf2-4318-acc4-c372a605904f",
   "metadata": {},
   "source": [
    "#### Model 2 - Surface:"
   ]
  },
  {
   "cell_type": "markdown",
   "id": "3f36906c-11b8-4ffe-8a69-4c6cf9c105dc",
   "metadata": {},
   "source": [
    "We will create a separate regression model with “Surface” as the independent variable. This would show us how the size of the property influences the rental price."
   ]
  },
  {
   "cell_type": "code",
   "execution_count": 4,
   "id": "31413d6e-3a82-4a3b-8df6-c952b00daab6",
   "metadata": {},
   "outputs": [],
   "source": [
    "# Model 2 - Surface\n",
    "X2 = df[['Surface']]\n",
    "\n",
    "X2_train, X2_test = train_test_split(X2, test_size=0.2, random_state=5)\n",
    "\n",
    "model2 =LinearRegression()\n",
    "model2.fit(X2_train, y_train)\n",
    "\n",
    "y2_pred = model2.predict(X2_test)\n"
   ]
  },
  {
   "cell_type": "markdown",
   "id": "8b7cf584-9c01-42cb-9e76-aced198207b4",
   "metadata": {},
   "source": [
    "#### Model 3- Étage"
   ]
  },
  {
   "cell_type": "code",
   "execution_count": 5,
   "id": "0bd8f5c9-ac62-4394-8cad-78b99251be46",
   "metadata": {},
   "outputs": [],
   "source": [
    "X3 = df[['Étage']]\n",
    "\n",
    "X3_train, X3_test = train_test_split(X3, test_size=0.2, random_state=5)\n",
    "\n",
    "model3 =LinearRegression()\n",
    "model3.fit(X3_train, y_train)\n",
    "\n",
    "y3_pred = model3.predict(X3_test)\n",
    "\n"
   ]
  },
  {
   "cell_type": "markdown",
   "id": "93f69692-829f-4a99-8303-25c261939e23",
   "metadata": {},
   "source": [
    "##### Accuracy"
   ]
  },
  {
   "cell_type": "code",
   "execution_count": 6,
   "id": "7a1cd414-1d3f-4045-8180-e75262325b97",
   "metadata": {},
   "outputs": [],
   "source": [
    "# Model 1:\n",
    "r2_1 = r2_score(y_test, y1_pred)\n",
    "mse_1 = mean_squared_error(y_test, y1_pred)\n",
    "rmse_1 = np.sqrt(mse_1)\n",
    "residuals1 = y_test - y1_pred\n",
    "SE1 = np.sqrt(np.sum(residuals1**2) / (len(y_test) - 2))\n",
    "# Model 2:\n",
    "r2_2 = r2_score(y_test, y2_pred)\n",
    "mse_2 = mean_squared_error(y_test, y2_pred)\n",
    "rmse_2 = np.sqrt(mse_2)\n",
    "residuals1 = y_test - y1_pred\n",
    "SE2 = np.sqrt(np.sum(residuals1**2) / (len(y_test) - 2))\n",
    "# Model 3:\n",
    "r2_3 = r2_score(y_test, y3_pred)\n",
    "mse_3 = mean_squared_error(y_test, y3_pred)\n",
    "rmse_3 = np.sqrt(mse_3)\n",
    "residuals3 = y_test - y2_pred\n",
    "SE3 = np.sqrt(np.sum(residuals3**2) / (len(y_test) - 2))"
   ]
  },
  {
   "cell_type": "code",
   "execution_count": 7,
   "id": "7c499082-58fd-4640-8581-2aaa0e9297d5",
   "metadata": {},
   "outputs": [
    {
     "name": "stdout",
     "output_type": "stream",
     "text": [
      "Model 1 R²: 0.3583, RMSE: 3576.15, MSE: 12788864.89, SE: 3578.18\n",
      "Model 2 R²: 0.1142, RMSE: 4201.65, MSE: 17653892.14, SE: 3578.18\n",
      "Model 3 R²: 0.0183, RMSE: 4423.35, MSE: 19566000.60, SE: 3578.18\n"
     ]
    }
   ],
   "source": [
    "print(f'Model 1 R²: {r2_1:.4f}, RMSE: {rmse_1:.2f}, MSE: {mse_1:.2f}, SE: {SE1:.2f}')\n",
    "print(f'Model 2 R²: {r2_2:.4f}, RMSE: {rmse_2:.2f}, MSE: {mse_2:.2f}, SE: {SE2:.2f}')\n",
    "print(f'Model 3 R²: {r2_3:.4f}, RMSE: {rmse_3:.2f}, MSE: {mse_3:.2f}, SE: {SE2:.2f}')\n"
   ]
  },
  {
   "cell_type": "code",
   "execution_count": 8,
   "id": "7ecc7d7d-e50e-4135-ad1d-45e13aa3429f",
   "metadata": {},
   "outputs": [
    {
     "data": {
      "image/png": "[encoded data removed]",
      "text/plain": [
       "<Figure size 400x400 with 1 Axes>"
      ]
     },
     "metadata": {},
     "output_type": "display_data"
    }
   ],
   "source": [
    "# R² values\n",
    "r2_values = [r2_1, r2_2,r2_3]\n",
    "sns.set_style(\"whitegrid\")\n",
    "plt.figure(figsize=(4,4))\n",
    "sns.barplot(x=['Attributs de chambre', 'Surface','Etage'], y=r2_values, color='darkorange',width=0.35 )\n",
    "plt.title('R²', fontsize=20)\n",
    "# plt.xticks(rotation=45) \n",
    "plt.savefig(\"R².png\")\n",
    "plt.show()\n"
   ]
  },
  {
   "cell_type": "markdown",
   "id": "c42b0a1e-0132-44a0-8fe1-154bb55e17c3",
   "metadata": {},
   "source": [
    "#### Effects of different cities"
   ]
  },
  {
   "cell_type": "code",
   "execution_count": 9,
   "id": "7436372a-e610-4b58-81a3-c174fef7ba66",
   "metadata": {},
   "outputs": [],
   "source": [
    "villes = [\"Ville_agadir\"\t,\"Ville_bouskoura\"\t,\"Ville_casablanca\"\t,\"Ville_dar-bouazza\"\t,\"Ville_kénitra\", \"Ville_marrakech\",\"Ville_mohammedia\"\t,\"Ville_rabat\",\t\"Ville_salé\"\t,\"Ville_tanger\"]"
   ]
  },
  {
   "cell_type": "code",
   "execution_count": 10,
   "id": "4c872af6-d474-40d4-8c28-b6aacb66d879",
   "metadata": {},
   "outputs": [],
   "source": [
    "dfs = {}\n",
    "for ville in villes:\n",
    "    dfs[ville] = df[df[ville] == 1]\n",
    "\n"
   ]
  },
  {
   "cell_type": "code",
   "execution_count": 11,
   "id": "65713cfc-2a5a-400c-829e-88a2c2003e87",
   "metadata": {},
   "outputs": [],
   "source": [
    "r2_scores = []\n",
    "mse_score=[]\n",
    "rmse_score=[]\n",
    "SE_score=[]\n",
    "for ville in villes:\n",
    "    df_ville = dfs[ville]\n",
    "    X = df_ville.drop(columns=[\"Prix\"]) \n",
    "    y = df_ville[\"Prix\"]\n",
    "    X_train, X_test, y_train, y_test = train_test_split(X, y, test_size=0.2, random_state=44)\n",
    "\n",
    "    model = LinearRegression()\n",
    "    model.fit(X_train, y_train)\n",
    "\n",
    "    y_pred = model.predict(X_test)\n",
    "\n",
    "    # Calculate R² score and othr metrics:\n",
    "    r2_scores.append(r2_score(y_test, y_pred))\n",
    "    mse_score.append(mean_squared_error(y_test, y_pred))\n",
    "    rmse_score.append(np.sqrt(mean_squared_error(y_test, y_pred)))\n",
    "    residuals1 = y_test - y_pred\n",
    "    SE_score.append( np.sqrt(np.sum(residuals1**2) / (len(y_test) - 2)))\n",
    "\n"
   ]
  },
  {
   "cell_type": "code",
   "execution_count": 12,
   "id": "4a1ff899-cc37-4b64-a579-c2d67d71fc21",
   "metadata": {},
   "outputs": [
    {
     "name": "stdout",
     "output_type": "stream",
     "text": [
      "r2_score: [0.274, 0.427, 0.669, 0.631, 0.128, 0.409, 0.51, 0.659, 0.769, 0.635]\n",
      "\n",
      "mse_score: [7457916.34, 9091556.377, 5237315.892, 4823645.375, 2713763.961, 8966645.277, 3849691.592, 7318166.627, 5572142.943, 8192625.949]\n",
      "\n",
      "rmse_score: [2730.919, 3015.221, 2288.518, 2196.28, 1647.351, 2994.436, 1962.063, 2705.211, 2360.539, 2862.276]\n",
      "\n",
      "SE_score: [2764.022, 3061.257, 2291.15, 2238.93, 1687.051, 3010.238, 1999.439, 2719.12, 2449.647, 2878.493]\n"
     ]
    }
   ],
   "source": [
    "r2_scores_rounded = [round(score, 3) for score in r2_scores]\n",
    "print(f'r2_score: {r2_scores_rounded}')\n",
    "print()\n",
    "mse_score_rounded = [round(score, 3) for score in mse_score]\n",
    "print(f'mse_score: {mse_score_rounded}')\n",
    "print()\n",
    "rmse_score_rounded = [round(score, 3) for score in rmse_score]\n",
    "print(f'rmse_score: {rmse_score_rounded}')\n",
    "print()\n",
    "SE_score_rounded = [round(score, 3) for score in SE_score]\n",
    "print(f'SE_score: {SE_score_rounded}')\n"
   ]
  },
  {
   "cell_type": "code",
   "execution_count": 13,
   "id": "67f4ac66-0e88-4c52-a152-103b72555178",
   "metadata": {},
   "outputs": [
    {
     "data": {
      "image/png": "[encoded data removed]",
      "text/plain": [
       "<Figure size 1000x400 with 1 Axes>"
      ]
     },
     "metadata": {},
     "output_type": "display_data"
    }
   ],
   "source": [
    "sns.set_style(\"whitegrid\")\n",
    "Villes = [\"agadir\",\"bouskoura\",\"casablanca\",\"dar-bouazza\",\"kénitra\", \"marrakech\",\"mohammedia\",\"rabat\",\"salé\",\"tanger\"]\n",
    "plt.figure(figsize=(10,4))\n",
    "sns.barplot(x=Villes, y=r2_scores, color='darkorange',width = 0.4)\n",
    "plt.title('R²', fontsize=20)\n",
    "# plt.xticks(rotation=45)\n",
    "\n",
    "plt.savefig('R²2.png')\n",
    "plt.show()\n"
   ]
  },
  {
   "cell_type": "markdown",
   "id": "9b82d202-39ff-4099-b701-767a46571b0a",
   "metadata": {},
   "source": [
    "All results that we obtained in this general analysis of single factors will be discussed and interpreted in the project’s final report."
   ]
  },
  {
   "cell_type": "code",
   "execution_count": 14,
   "id": "c3c72398-5ad1-466e-9b44-d0a854b35d09",
   "metadata": {},
   "outputs": [
    {
     "name": "stdout",
     "output_type": "stream",
     "text": [
      "Ville_agadir\n",
      "0    8384\n",
      "1     417\n",
      "Name: count, dtype: int64\n",
      "Ville_bouskoura\n",
      "0    8470\n",
      "1     331\n",
      "Name: count, dtype: int64\n",
      "Ville_casablanca\n",
      "0    4446\n",
      "1    4355\n",
      "Name: count, dtype: int64\n",
      "Ville_dar-bouazza\n",
      "0    8540\n",
      "1     261\n",
      "Name: count, dtype: int64\n",
      "Ville_kénitra\n",
      "0    8590\n",
      "1     211\n",
      "Name: count, dtype: int64\n",
      "Ville_marrakech\n",
      "0    7846\n",
      "1     955\n",
      "Name: count, dtype: int64\n",
      "Ville_mohammedia\n",
      "0    8531\n",
      "1     270\n",
      "Name: count, dtype: int64\n",
      "Ville_rabat\n",
      "0    7825\n",
      "1     976\n",
      "Name: count, dtype: int64\n",
      "Ville_salé\n",
      "0    8664\n",
      "1     137\n",
      "Name: count, dtype: int64\n",
      "Ville_tanger\n",
      "0    7913\n",
      "1     888\n",
      "Name: count, dtype: int64\n"
     ]
    }
   ],
   "source": [
    "for ville in villes:\n",
    "    print(df[ville].value_counts())"
   ]
  },
  {
   "cell_type": "code",
   "execution_count": 15,
   "id": "c5a541a4-d72c-4dc0-89dd-eb252fd80d48",
   "metadata": {},
   "outputs": [],
   "source": [
    "df.to_csv(\"../CSV's/FinalDataSet.csv\", index=False)"
   ]
  },
  {
   "cell_type": "code",
   "execution_count": null,
   "id": "502e83ed-da7c-4996-92bf-fe108c4912c1",
   "metadata": {},
   "outputs": [],
   "source": []
  }
 ],
 "metadata": {
  "kernelspec": {
   "display_name": "Python 3 (ipykernel)",
   "language": "python",
   "name": "python3"
  },
  "language_info": {
   "codemirror_mode": {
    "name": "ipython",
    "version": 3
   },
   "file_extension": ".py",
   "mimetype": "text/x-python",
   "name": "python",
   "nbconvert_exporter": "python",
   "pygments_lexer": "ipython3",
   "version": "3.12.0"
  }
 },
 "nbformat": 4,
 "nbformat_minor": 5
}
